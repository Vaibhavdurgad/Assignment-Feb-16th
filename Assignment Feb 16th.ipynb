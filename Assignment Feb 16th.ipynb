{
 "cells": [
  {
   "cell_type": "markdown",
   "id": "9e865b75-f89d-4e32-8b56-6d841a967e50",
   "metadata": {},
   "source": [
    "Q1. What is a database? Differentiate between SQL and NoSQL databases."
   ]
  },
  {
   "cell_type": "markdown",
   "id": "4efe893a-2482-406e-97d4-1fd9b2c9e382",
   "metadata": {},
   "source": [
    "Ans:A database is an organized collection of structured information, or data, typically stored electronically in a computer system. "
   ]
  },
  {
   "cell_type": "markdown",
   "id": "f22bd0d6-f767-4eb8-bf1b-39a864562fba",
   "metadata": {},
   "source": [
    "SQL :RELATIONAL DATABASE MANAGEMENT SYSTEM (RDBMS).\n",
    "     These databases have fixed or static or predefined schema\t\n",
    "     These databases are not suited for hierarchical data storage.\n",
    "     These databases are best suited for complex queries.\n",
    "     Vertically Scalable\t\n",
    "\n",
    "NoSQL:Non-relational or distributed database system.\n",
    "      They have dynamic schema.\n",
    "      These databases are best suited for hierarchical data storage.\n",
    "      These databases are not so good for complex queries.\n",
    "      Horizontally scalable"
   ]
  },
  {
   "cell_type": "markdown",
   "id": "f43b3331-af80-4ad2-bc84-4384caf3e0c1",
   "metadata": {},
   "source": [
    "Q2. What is DDL? Explain why CREATE, DROP, ALTER, and TRUNCATE are used with an example."
   ]
  },
  {
   "cell_type": "markdown",
   "id": "8143df79-fc41-4632-97fc-7220038cc5cd",
   "metadata": {},
   "source": [
    " Ans :A data definition language (DDL) is a computer language used to create and modify the structure of database objects       in a database."
   ]
  },
  {
   "cell_type": "markdown",
   "id": "ba242b57-d80b-429e-b0cb-d62aa9e5942d",
   "metadata": {},
   "source": [
    "CREATE TABLE Persons (\n",
    "    PersonID int,\n",
    "    LastName varchar(255),\n",
    "    FirstName varchar(255),\n",
    "    Address varchar(255),\n",
    "    City varchar(255)\n",
    ");"
   ]
  },
  {
   "cell_type": "markdown",
   "id": "ac09fea1-85f8-4009-a12e-7e5152daefb7",
   "metadata": {},
   "source": [
    "DROP TABLE Persons;"
   ]
  },
  {
   "cell_type": "markdown",
   "id": "82069c62-3fc1-41da-8c30-d3a64d3fd0a9",
   "metadata": {},
   "source": [
    "ALTER TABLE Persons\n",
    "ADD Email varchar(255);"
   ]
  },
  {
   "cell_type": "code",
   "execution_count": null,
   "id": "703ccd94-e71f-4eeb-bddc-427900ddcdf3",
   "metadata": {},
   "outputs": [],
   "source": [
    "TRUNCATE TABLE Persons;"
   ]
  },
  {
   "cell_type": "markdown",
   "id": "3fdf878e-722a-4bef-98b9-4de98c2df2aa",
   "metadata": {},
   "source": [
    "Q3. What is DML? Explain INSERT, UPDATE, and DELETE with an example."
   ]
  },
  {
   "cell_type": "markdown",
   "id": "0759b4cf-b674-46d0-845a-bc6e8f3588ef",
   "metadata": {},
   "source": [
    "Ans: A DML can access, store, change, update and remove existing folders from the database using DML commands."
   ]
  },
  {
   "cell_type": "markdown",
   "id": "a8f89d86-e7fb-4fe3-94e5-99d30d27efb9",
   "metadata": {},
   "source": [
    "Insert into Persons(PersonID, LastName,FirstName,Address,City)\n",
    "Values(1,'Durgad','Vaibhav','Nimbarga','Gulbarga')\n",
    "\n",
    "UPDATE Persons\n",
    "SET FirstName='Vinayak'\n",
    "where PersonsID=1;\n",
    "\n",
    "Delete from Persons where FirstName='Vinayak';"
   ]
  },
  {
   "cell_type": "markdown",
   "id": "494cd91e-294f-4ff2-94a0-c1dea4592cf0",
   "metadata": {},
   "source": [
    "Q4. What is DQL? Explain SELECT with an example."
   ]
  },
  {
   "cell_type": "markdown",
   "id": "2297c2d6-66f1-4847-8e86-006b483bec12",
   "metadata": {},
   "source": [
    "Ans: DQL is one of the finest SQL commands that is used to fetch the data from the database."
   ]
  },
  {
   "cell_type": "markdown",
   "id": "f496a5f1-da9c-41ce-9eae-204e647c1b85",
   "metadata": {},
   "source": [
    "select * from Persons where PersonID=1;"
   ]
  },
  {
   "cell_type": "markdown",
   "id": "acba112f-a4fb-433d-87d7-79e556634ee0",
   "metadata": {},
   "source": [
    "Q5. Explain Primary Key and Foreign Key."
   ]
  },
  {
   "cell_type": "markdown",
   "id": "5928f58b-b936-4949-9ad3-8c97247de118",
   "metadata": {},
   "source": [
    "Ans :A primary key generally focuses on the uniqueness of the table. \n",
    "     It assures the value in the specific column is unique.\n",
    "     Table allows only one primary key.\n",
    "     A foreign key is generally used to build a relationship between the two tables. "
   ]
  },
  {
   "cell_type": "markdown",
   "id": "d8a21595-b3d0-4252-9024-27ab64243a5e",
   "metadata": {},
   "source": [
    "Q6. Write a python code to connect MySQL to python. Explain the cursor() and execute() method."
   ]
  },
  {
   "cell_type": "markdown",
   "id": "f2f30b83-1798-425b-a56c-b2f30459a460",
   "metadata": {},
   "source": [
    "Ans:\n",
    "import mysql.connector\n",
    "# import mysql.connector\n",
    "#create user 'user'@'%' identified by 'password'\n",
    "mydb = mysql.connector.connect(\n",
    "  host=\"localhost\",\n",
    "  user=\"abc\",\n",
    "  password=\"password\"\n",
    ")\n",
    "print(mydb)\n",
    "mycursor = mydb.cursor()\n",
    "mycursor.execute(\"SHOW DATABASES\")\n",
    "for x in mycursor:\n",
    "  print(x)"
   ]
  },
  {
   "cell_type": "markdown",
   "id": "897a5569-2fd0-4465-bb99-5e7cc673910f",
   "metadata": {},
   "source": [
    "Q7. Give the order of execution of SQL clauses in an SQL query."
   ]
  },
  {
   "cell_type": "code",
   "execution_count": null,
   "id": "cbbf47dd-5a7d-427c-b2db-3a5038b97cd3",
   "metadata": {},
   "outputs": [],
   "source": [
    "Ans: \n",
    "    FROM clause\n",
    "    ON clause\n",
    "    OUTER clause\n",
    "    WHERE clause\n",
    "    GROUP BY clause\n",
    "    HAVING clause\n",
    "    SELECT clause\n",
    "    DISTINCT clause\n",
    "    ORDER BY clause\n",
    "    TOP clause"
   ]
  }
 ],
 "metadata": {
  "kernelspec": {
   "display_name": "Python 3 (ipykernel)",
   "language": "python",
   "name": "python3"
  },
  "language_info": {
   "codemirror_mode": {
    "name": "ipython",
    "version": 3
   },
   "file_extension": ".py",
   "mimetype": "text/x-python",
   "name": "python",
   "nbconvert_exporter": "python",
   "pygments_lexer": "ipython3",
   "version": "3.10.8"
  }
 },
 "nbformat": 4,
 "nbformat_minor": 5
}
